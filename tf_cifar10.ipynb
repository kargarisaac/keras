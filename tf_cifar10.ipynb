{
 "cells": [
  {
   "cell_type": "code",
   "execution_count": 47,
   "metadata": {
    "collapsed": false,
    "deletable": true,
    "editable": true
   },
   "outputs": [],
   "source": [
    "%matplotlib inline\n",
    "import matplotlib.pyplot as plt\n",
    "import tensorflow as tf\n",
    "import numpy as np\n",
    "from keras.datasets import cifar10\n",
    "from keras.utils import np_utils"
   ]
  },
  {
   "cell_type": "markdown",
   "metadata": {
    "deletable": true,
    "editable": true
   },
   "source": [
    "In this tutorial I used tensorflow for classification on cifar10 dataset. I used my laptop Lenovo Y700 with Nvidia GTX 960M graphic card for training. you can use cloud services and train more and get better results. In Iran we do not have access to cloud services :)"
   ]
  },
  {
   "cell_type": "code",
   "execution_count": 48,
   "metadata": {
    "collapsed": false,
    "deletable": true,
    "editable": true
   },
   "outputs": [
    {
     "data": {
      "text/plain": [
       "'1.0.0'"
      ]
     },
     "execution_count": 48,
     "metadata": {},
     "output_type": "execute_result"
    }
   ],
   "source": [
    "tf.__version__"
   ]
  },
  {
   "cell_type": "code",
   "execution_count": 49,
   "metadata": {
    "collapsed": false,
    "deletable": true,
    "editable": true
   },
   "outputs": [],
   "source": [
    "cifar10.data_path = \"data/cifar-10-python/cifar-10-batches-py/\""
   ]
  },
  {
   "cell_type": "markdown",
   "metadata": {},
   "source": [
    "you can download cifar10 dataset from this link (http://www.cs.toronto.edu/~kriz/cifar-10-binary.tar.gz) or just use keras to download it."
   ]
  },
  {
   "cell_type": "code",
   "execution_count": 55,
   "metadata": {
    "collapsed": false,
    "deletable": true,
    "editable": true
   },
   "outputs": [],
   "source": [
    "(images_train, labels_train), (images_test, labels_test) = cifar10.load_data()"
   ]
  },
  {
   "cell_type": "code",
   "execution_count": 56,
   "metadata": {
    "collapsed": true
   },
   "outputs": [],
   "source": [
    "labels_train = np_utils.to_categorical(labels_train)\n",
    "labels_test = np_utils.to_categorical(labels_test)"
   ]
  },
  {
   "cell_type": "code",
   "execution_count": 57,
   "metadata": {
    "collapsed": false,
    "deletable": true,
    "editable": true
   },
   "outputs": [
    {
     "name": "stdout",
     "output_type": "stream",
     "text": [
      "Size of:\n",
      "- Training-set:\t\t50000\n",
      "- Test-set:\t\t10000\n"
     ]
    }
   ],
   "source": [
    "print(\"Size of:\")\n",
    "print(\"- Training-set:\\t\\t{}\".format(len(images_train)))\n",
    "print(\"- Test-set:\\t\\t{}\".format(len(images_test)))"
   ]
  },
  {
   "cell_type": "code",
   "execution_count": 58,
   "metadata": {
    "collapsed": false,
    "deletable": true,
    "editable": true
   },
   "outputs": [
    {
     "name": "stdout",
     "output_type": "stream",
     "text": [
      "train dataset shapes:\n",
      "images_train shape: (50000, 32, 32, 3)\n",
      "labels_train: shape (50000, 10)\n"
     ]
    }
   ],
   "source": [
    "print(\"train dataset shapes:\")\n",
    "print(\"images_train shape:\",images_train.shape)\n",
    "print(\"labels_train: shape\",labels_train.shape)"
   ]
  },
  {
   "cell_type": "code",
   "execution_count": 59,
   "metadata": {
    "collapsed": false,
    "deletable": true,
    "editable": true
   },
   "outputs": [
    {
     "name": "stdout",
     "output_type": "stream",
     "text": [
      "test dataset shapes:\n",
      "images_test shape: (10000, 32, 32, 3)\n",
      "labels_test: shape (10000, 10)\n"
     ]
    }
   ],
   "source": [
    "print(\"test dataset shapes:\")\n",
    "print(\"images_test shape:\",images_test.shape)\n",
    "print(\"labels_test: shape\",labels_test.shape)"
   ]
  },
  {
   "cell_type": "code",
   "execution_count": 60,
   "metadata": {
    "collapsed": true
   },
   "outputs": [],
   "source": [
    "## normalization\n",
    "images_train = images_train.astype('float32')\n",
    "images_train = images_train/255.\n",
    "images_test = images_test.astype('float32')\n",
    "images_test = images_test/255."
   ]
  },
  {
   "cell_type": "code",
   "execution_count": 61,
   "metadata": {
    "collapsed": true,
    "deletable": true,
    "editable": true
   },
   "outputs": [],
   "source": [
    "height = images_train.shape[1]\n",
    "width = images_train.shape[2]\n",
    "depth = images_train.shape[3]\n",
    "num_classes = labels_train.shape[1]"
   ]
  },
  {
   "cell_type": "markdown",
   "metadata": {
    "deletable": true,
    "editable": true
   },
   "source": [
    "# helper functions"
   ]
  },
  {
   "cell_type": "code",
   "execution_count": 62,
   "metadata": {
    "collapsed": true,
    "deletable": true,
    "editable": true
   },
   "outputs": [],
   "source": [
    "def weights(shape):\n",
    "    return tf.Variable(tf.truncated_normal(shape, stddev=0.05))"
   ]
  },
  {
   "cell_type": "code",
   "execution_count": 63,
   "metadata": {
    "collapsed": true,
    "deletable": true,
    "editable": true
   },
   "outputs": [],
   "source": [
    "def biases(length):\n",
    "    return tf.Variable(tf.constant(0.05, shape=[length]))"
   ]
  },
  {
   "cell_type": "code",
   "execution_count": 64,
   "metadata": {
    "collapsed": true,
    "deletable": true,
    "editable": true
   },
   "outputs": [],
   "source": [
    "def conv2d_layer(imgs,              # The previous layer.\n",
    "                    num_input_channels, # Num. channels in prev. layer.\n",
    "                    filter_size,        # Width and height of each filter.\n",
    "                    num_filters,        # Number of filters.\n",
    "                    stride,             \n",
    "                    padding): \n",
    "\n",
    "    shape = [filter_size, filter_size, num_input_channels, num_filters]\n",
    "\n",
    "    # Create new weights aka. filters with the given shape.\n",
    "    kernel = weights(shape=shape)\n",
    "\n",
    "    # Create new biases, one for each filter.\n",
    "    biase = biases(length=num_filters)\n",
    "\n",
    "    # Create the TensorFlow operation for convolution.\n",
    "    # Note the strides are set to 1 in all dimensions.\n",
    "    # The first and last stride must always be 1,\n",
    "    # because the first is for the image-number and\n",
    "    # the last is for the input-channel.\n",
    "    # But e.g. strides=[1, 2, 2, 1] would mean that the filter\n",
    "    # is moved 2 pixels across the x- and y-axis of the image.\n",
    "    # The padding is set to 'SAME' which means the input image\n",
    "    # is padded with zeroes so the size of the output is the same.\n",
    "    layer = tf.nn.conv2d(input=imgs,\n",
    "                         filter=kernel,\n",
    "                         strides=[1, stride, stride, 1],\n",
    "                         padding=padding)\n",
    "\n",
    "    # Add the biases to the results of the convolution.\n",
    "    # A bias-value is added to each filter-channel.\n",
    "    layer += biase\n",
    "\n",
    "\n",
    "    # Rectified Linear Unit (ReLU).\n",
    "    # It calculates max(x, 0) for each input pixel x.\n",
    "    # This adds some non-linearity to the formula and allows us\n",
    "    # to learn more complicated functions.\n",
    "    layer = tf.nn.relu(layer)\n",
    "\n",
    "    # Note that ReLU is normally executed before the pooling,\n",
    "    # but since relu(max_pool(x)) == max_pool(relu(x)) we can\n",
    "    # save 75% of the relu-operations by max-pooling first.\n",
    "\n",
    "    # We return both the resulting layer and the filter-weights\n",
    "    # because we will plot the weights later.\n",
    "    return layer, kernel"
   ]
  },
  {
   "cell_type": "code",
   "execution_count": 65,
   "metadata": {
    "collapsed": true,
    "deletable": true,
    "editable": true
   },
   "outputs": [],
   "source": [
    "def max_pool_layer(layer, window_size, stride, padding):\n",
    "    # Use pooling to down-sample the image resolution\n",
    "    # This is 2x2 max-pooling, which means that we\n",
    "    # consider 2x2 windows and select the largest value\n",
    "    # in each window. Then we move 2 pixels to the next window.\n",
    "    max_pooled_layer = tf.nn.max_pool(value=layer,\n",
    "                           ksize=[1, window_size, window_size, 1],\n",
    "                           strides=[1, stride, stride, 1],\n",
    "                           padding=padding)\n",
    "    return max_pooled_layer"
   ]
  },
  {
   "cell_type": "code",
   "execution_count": 66,
   "metadata": {
    "collapsed": true,
    "deletable": true,
    "editable": true
   },
   "outputs": [],
   "source": [
    "def flatten_layer(layer):\n",
    "    # Get the shape of the input layer.\n",
    "    layer_shape = layer.get_shape()\n",
    "\n",
    "    # The shape of the input layer is assumed to be:\n",
    "    # layer_shape == [num_images, img_height, img_width, num_channels]\n",
    "\n",
    "    # The number of features is: img_height * img_width * num_channels\n",
    "    # We can use a function from TensorFlow to calculate this.\n",
    "    num_features = layer_shape[1:4].num_elements()\n",
    "    \n",
    "    # Reshape the layer to [num_images, num_features].\n",
    "    # Note that we just set the size of the second dimension\n",
    "    # to num_features and the size of the first dimension to -1\n",
    "    # which means the size in that dimension is calculated\n",
    "    # so the total size of the tensor is unchanged from the reshaping.\n",
    "    layer_flat = tf.reshape(layer, [-1, num_features])\n",
    "\n",
    "    # The shape of the flattened layer is now:\n",
    "    # [num_images, img_height * img_width * num_channels]\n",
    "\n",
    "    # Return both the flattened layer and the number of features.\n",
    "    return layer_flat, num_features"
   ]
  },
  {
   "cell_type": "code",
   "execution_count": 67,
   "metadata": {
    "collapsed": true,
    "deletable": true,
    "editable": true
   },
   "outputs": [],
   "source": [
    "def fc_layer(input,          # The previous layer.\n",
    "                 num_inputs,     # Num. inputs from prev. layer.\n",
    "                 num_outputs,    # Num. outputs.\n",
    "                 use_relu=True): # Use Rectified Linear Unit (ReLU)?\n",
    "\n",
    "    # Create new weights and biases.\n",
    "    weight = weights(shape=[num_inputs, num_outputs])\n",
    "    biase = biases(length=num_outputs)\n",
    "\n",
    "    # Calculate the layer as the matrix multiplication of\n",
    "    # the input and weights, and then add the bias-values.\n",
    "    layer = tf.matmul(input, weight) + biase\n",
    "\n",
    "    # Use ReLU?\n",
    "    if use_relu:\n",
    "        layer = tf.nn.relu(layer)\n",
    "\n",
    "    return layer"
   ]
  },
  {
   "cell_type": "code",
   "execution_count": 68,
   "metadata": {
    "collapsed": true,
    "deletable": true,
    "editable": true
   },
   "outputs": [],
   "source": [
    "def random_batch(train_batch_size):\n",
    "    # Number of images in the training-set.\n",
    "    num_images = len(images_train)\n",
    "\n",
    "    # Create a random index.\n",
    "    idx = np.random.choice(num_images,\n",
    "                           size=train_batch_size,\n",
    "                           replace=False)\n",
    "\n",
    "    # Use the random index to select random images and labels.\n",
    "    x_batch = images_train[idx, :, :, :]\n",
    "    y_batch = labels_train[idx, :]\n",
    "\n",
    "    return x_batch, y_batch"
   ]
  },
  {
   "cell_type": "markdown",
   "metadata": {
    "deletable": true,
    "editable": true
   },
   "source": [
    "# placeholders"
   ]
  },
  {
   "cell_type": "code",
   "execution_count": 69,
   "metadata": {
    "collapsed": true,
    "deletable": true,
    "editable": true
   },
   "outputs": [],
   "source": [
    "x = tf.placeholder(tf.float32, shape=[None,height,width,depth], name=\"X\")\n",
    "y_true = tf.placeholder(tf.float32, shape=[None,num_classes], name=\"Y\")"
   ]
  },
  {
   "cell_type": "code",
   "execution_count": 70,
   "metadata": {
    "collapsed": true,
    "deletable": true,
    "editable": true
   },
   "outputs": [],
   "source": [
    "y_true_cls = tf.argmax(y_true, dimension=1)"
   ]
  },
  {
   "cell_type": "markdown",
   "metadata": {
    "deletable": true,
    "editable": true
   },
   "source": [
    "# define network"
   ]
  },
  {
   "cell_type": "code",
   "execution_count": 71,
   "metadata": {
    "collapsed": true,
    "deletable": true,
    "editable": true
   },
   "outputs": [],
   "source": [
    "conv1_depth = 16\n",
    "conv2_depth = 32\n",
    "conv3_depth = 64"
   ]
  },
  {
   "cell_type": "code",
   "execution_count": 72,
   "metadata": {
    "collapsed": false,
    "deletable": true,
    "editable": true
   },
   "outputs": [],
   "source": [
    "conv1, _ = conv2d_layer(x, depth, 3, conv1_depth, 1, 'SAME')\n",
    "max_pool1 = max_pool_layer(conv1, 2, 2, 'SAME')\n",
    "\n",
    "conv2, _ = conv2d_layer(max_pool1, conv1_depth, 3, conv2_depth, 1, 'SAME')\n",
    "max_pool2 = max_pool_layer(conv2, 2, 2, 'SAME')\n",
    "\n",
    "conv3, _ = conv2d_layer(max_pool2, conv2_depth, 3, conv3_depth, 1, 'SAME')\n",
    "max_pool3 = max_pool_layer(conv3, 2, 2, 'SAME')\n",
    "\n",
    "flatten, num_features = flatten_layer(max_pool3)\n",
    "\n",
    "FC1 = fc_layer(flatten, num_features, 1024, True)\n",
    "FC1_dropped = tf.nn.dropout(FC1, 0.5)\n",
    "FC2 = fc_layer(FC1_dropped, 1024, num_classes, False)\n",
    "y_pred = tf.nn.softmax(FC2)\n",
    "y_pred_cls = tf.argmax(y_pred, dimension=1)"
   ]
  },
  {
   "cell_type": "markdown",
   "metadata": {
    "deletable": true,
    "editable": true
   },
   "source": [
    "# Loss function"
   ]
  },
  {
   "cell_type": "code",
   "execution_count": 73,
   "metadata": {
    "collapsed": false,
    "deletable": true,
    "editable": true
   },
   "outputs": [],
   "source": [
    "cross_entropy = tf.nn.softmax_cross_entropy_with_logits(labels=y_true, logits=FC2)\n",
    "cost = tf.reduce_mean(cross_entropy)"
   ]
  },
  {
   "cell_type": "markdown",
   "metadata": {
    "deletable": true,
    "editable": true
   },
   "source": [
    "# optimization method"
   ]
  },
  {
   "cell_type": "code",
   "execution_count": 74,
   "metadata": {
    "collapsed": true,
    "deletable": true,
    "editable": true
   },
   "outputs": [],
   "source": [
    "optimizer = tf.train.AdamOptimizer(1e-4).minimize(cost)"
   ]
  },
  {
   "cell_type": "markdown",
   "metadata": {
    "deletable": true,
    "editable": true
   },
   "source": [
    "# performance measurment"
   ]
  },
  {
   "cell_type": "code",
   "execution_count": 75,
   "metadata": {
    "collapsed": true,
    "deletable": true,
    "editable": true
   },
   "outputs": [],
   "source": [
    "correct_prediction = tf.equal(y_pred_cls, y_true_cls)"
   ]
  },
  {
   "cell_type": "code",
   "execution_count": 76,
   "metadata": {
    "collapsed": true,
    "deletable": true,
    "editable": true
   },
   "outputs": [],
   "source": [
    "accuracy = tf.reduce_mean(tf.cast(correct_prediction, tf.float32))"
   ]
  },
  {
   "cell_type": "markdown",
   "metadata": {
    "deletable": true,
    "editable": true
   },
   "source": [
    "# Training"
   ]
  },
  {
   "cell_type": "code",
   "execution_count": 77,
   "metadata": {
    "collapsed": true,
    "deletable": true,
    "editable": true
   },
   "outputs": [],
   "source": [
    "sess = tf.InteractiveSession()"
   ]
  },
  {
   "cell_type": "code",
   "execution_count": 78,
   "metadata": {
    "collapsed": true,
    "deletable": true,
    "editable": true
   },
   "outputs": [],
   "source": [
    "sess.run(tf.global_variables_initializer())"
   ]
  },
  {
   "cell_type": "code",
   "execution_count": 79,
   "metadata": {
    "collapsed": false,
    "deletable": true,
    "editable": true
   },
   "outputs": [
    {
     "name": "stdout",
     "output_type": "stream",
     "text": [
      "iter:0, train acc:0.12200000137090683, test acc:0.09749999642372131\n",
      "iter:500, train acc:0.3960000276565552, test acc:0.4258999228477478\n",
      "iter:1000, train acc:0.47199997305870056, test acc:0.48629987239837646\n",
      "iter:1500, train acc:0.5479999780654907, test acc:0.5188998579978943\n"
     ]
    }
   ],
   "source": [
    "for i in range(2000):\n",
    "    x_batch, y_true_batch = random_batch(500)\n",
    "    sess.run(optimizer, feed_dict={x: x_batch, y_true: y_true_batch})\n",
    "    if i%500 == 0:\n",
    "        acc = sess.run(accuracy, feed_dict={x: x_batch, y_true: y_true_batch})\n",
    "        acc_test = sess.run(accuracy, feed_dict={x:images_test , y_true:labels_test})\n",
    "        print(\"iter:{0}, train acc:{1}, test acc:{2}\".format(i, acc, acc_test))"
   ]
  },
  {
   "cell_type": "code",
   "execution_count": 80,
   "metadata": {
    "collapsed": false,
    "deletable": true,
    "editable": true
   },
   "outputs": [
    {
     "name": "stdout",
     "output_type": "stream",
     "text": [
      "iter:0, train acc:0.5419999957084656, test acc:0.5406998991966248\n",
      "iter:500, train acc:0.5799999833106995, test acc:0.5656999349594116\n",
      "iter:1000, train acc:0.5760000348091125, test acc:0.5789998769760132\n",
      "iter:1500, train acc:0.6359999775886536, test acc:0.5857999324798584\n",
      "iter:2000, train acc:0.6360000371932983, test acc:0.5988999009132385\n",
      "iter:2500, train acc:0.6279999613761902, test acc:0.6079999208450317\n",
      "iter:3000, train acc:0.6460000276565552, test acc:0.6129999756813049\n",
      "iter:3500, train acc:0.64000004529953, test acc:0.6286999583244324\n",
      "iter:4000, train acc:0.6859999895095825, test acc:0.6296998858451843\n",
      "iter:4500, train acc:0.7000000476837158, test acc:0.6315999031066895\n",
      "iter:5000, train acc:0.687999963760376, test acc:0.6464999318122864\n",
      "iter:5500, train acc:0.7099999785423279, test acc:0.6518998742103577\n"
     ]
    }
   ],
   "source": [
    "## another 6000 training epochs\n",
    "for i in range(6000):\n",
    "    x_batch, y_true_batch = random_batch(500)\n",
    "    sess.run(optimizer, feed_dict={x: x_batch, y_true: y_true_batch})\n",
    "    if i%500 == 0:\n",
    "        acc = sess.run(accuracy, feed_dict={x: x_batch, y_true: y_true_batch})\n",
    "        acc_test = sess.run(accuracy, feed_dict={x:images_test , y_true:labels_test})\n",
    "        print(\"iter:{0}, train acc:{1}, test acc:{2}\".format(i, acc, acc_test))"
   ]
  },
  {
   "cell_type": "markdown",
   "metadata": {},
   "source": [
    "My laptop graphic card became so hot. You can train the network more to reach more accuracy."
   ]
  },
  {
   "cell_type": "code",
   "execution_count": 81,
   "metadata": {
    "collapsed": false,
    "deletable": true,
    "editable": true
   },
   "outputs": [],
   "source": [
    "pred = sess.run(y_pred_cls, feed_dict={x:images_test})"
   ]
  },
  {
   "cell_type": "code",
   "execution_count": 88,
   "metadata": {
    "collapsed": false,
    "deletable": true,
    "editable": true
   },
   "outputs": [
    {
     "data": {
      "image/png": "[encoded data removed]",
      "text/plain": [
       "<matplotlib.figure.Figure at 0x251a413cef0>"
      ]
     },
     "metadata": {},
     "output_type": "display_data"
    }
   ],
   "source": [
    "fig, axes = plt.subplots(3,3)\n",
    "fig.subplots_adjust(hspace=1.5, wspace=0.2)\n",
    "for i,ax in enumerate(axes.flat):\n",
    "    ax.imshow(images_test[i]*255.)\n",
    "    ax.set_xlabel(\"true:{0},\\n pred:{1}\".format(np.argmax(labels_test[i]),pred[i]))\n",
    "plt.show()"
   ]
  },
  {
   "cell_type": "code",
   "execution_count": null,
   "metadata": {
    "collapsed": true,
    "deletable": true,
    "editable": true
   },
   "outputs": [],
   "source": []
  }
 ],
 "metadata": {
  "kernelspec": {
   "display_name": "Python 3",
   "language": "python",
   "name": "python3"
  },
  "language_info": {
   "codemirror_mode": {
    "name": "ipython",
    "version": 3
   },
   "file_extension": ".py",
   "mimetype": "text/x-python",
   "name": "python",
   "nbconvert_exporter": "python",
   "pygments_lexer": "ipython3",
   "version": "3.5.2"
  }
 },
 "nbformat": 4,
 "nbformat_minor": 2
}
