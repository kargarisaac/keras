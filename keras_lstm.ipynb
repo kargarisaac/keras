{
 "cells": [
  {
   "cell_type": "markdown",
   "metadata": {},
   "source": [
    "# Import libraries"
   ]
  },
  {
   "cell_type": "code",
   "execution_count": 1,
   "metadata": {
    "collapsed": false
   },
   "outputs": [
    {
     "name": "stderr",
     "output_type": "stream",
     "text": [
      "Using TensorFlow backend.\n"
     ]
    },
    {
     "name": "stdout",
     "output_type": "stream",
     "text": [
      "Couldn't import dot_parser, loading of dot files will not be possible.\n"
     ]
    }
   ],
   "source": [
    "import pandas as pd\n",
    "import matplotlib.pyplot as plt\n",
    "import numpy as np\n",
    "import tensorflow as tf\n",
    "\n",
    "from keras.models import Sequential\n",
    "from keras.layers import LSTM , Dense\n",
    "\n",
    "from sklearn.preprocessing import MinMaxScaler\n",
    "\n",
    "%matplotlib inline"
   ]
  },
  {
   "cell_type": "markdown",
   "metadata": {},
   "source": [
    "# Import data and normalization"
   ]
  },
  {
   "cell_type": "code",
   "execution_count": 2,
   "metadata": {
    "collapsed": false
   },
   "outputs": [],
   "source": [
    "scaler = MinMaxScaler(feature_range=(0,1))"
   ]
  },
  {
   "cell_type": "code",
   "execution_count": 3,
   "metadata": {
    "collapsed": false
   },
   "outputs": [
    {
     "name": "stderr",
     "output_type": "stream",
     "text": [
      "/usr/local/lib/python2.7/dist-packages/ipykernel/__main__.py:1: ParserWarning: Falling back to the 'python' engine because the 'c' engine does not support skip_footer; you can avoid this warning by specifying engine='python'.\n",
      "  if __name__ == '__main__':\n"
     ]
    }
   ],
   "source": [
    "dataframe = pd.read_csv(\"/resources/international-airline-passengers.csv\",usecols=[1], skipfooter=3)"
   ]
  },
  {
   "cell_type": "code",
   "execution_count": 4,
   "metadata": {
    "collapsed": false
   },
   "outputs": [],
   "source": [
    "dataset = dataframe.values\n",
    "dataset = dataset.astype('float32')"
   ]
  },
  {
   "cell_type": "code",
   "execution_count": 5,
   "metadata": {
    "collapsed": false
   },
   "outputs": [
    {
     "data": {
      "image/png": "[encoded data removed]",
      "text/plain": [
       "<matplotlib.figure.Figure at 0x7fd23bb5fe90>"
      ]
     },
     "metadata": {},
     "output_type": "display_data"
    }
   ],
   "source": [
    "plt.plot(dataset)\n",
    "plt.show()"
   ]
  },
  {
   "cell_type": "code",
   "execution_count": 6,
   "metadata": {
    "collapsed": false
   },
   "outputs": [],
   "source": [
    "dataset = scaler.fit_transform(dataset)"
   ]
  },
  {
   "cell_type": "code",
   "execution_count": 7,
   "metadata": {
    "collapsed": false
   },
   "outputs": [
    {
     "data": {
      "text/plain": [
       "(144, 1)"
      ]
     },
     "execution_count": 7,
     "metadata": {},
     "output_type": "execute_result"
    }
   ],
   "source": [
    "dataset.shape"
   ]
  },
  {
   "cell_type": "code",
   "execution_count": 8,
   "metadata": {
    "collapsed": false
   },
   "outputs": [],
   "source": [
    "split_point = int(len(dataset)*0.7)\n",
    "train , test = dataset[:split_point,:] , dataset[split_point:,:]"
   ]
  },
  {
   "cell_type": "code",
   "execution_count": 9,
   "metadata": {
    "collapsed": false
   },
   "outputs": [
    {
     "data": {
      "text/plain": [
       "(144, 100, 44)"
      ]
     },
     "execution_count": 9,
     "metadata": {},
     "output_type": "execute_result"
    }
   ],
   "source": [
    "len(dataset) , len(train) , len(test)"
   ]
  },
  {
   "cell_type": "markdown",
   "metadata": {},
   "source": [
    "# Build input and output dataset"
   ]
  },
  {
   "cell_type": "code",
   "execution_count": 10,
   "metadata": {
    "collapsed": true
   },
   "outputs": [],
   "source": [
    "def create_database(dataset, look_back = 1):\n",
    "    dataX = []\n",
    "    dataY = []\n",
    "    for i in range(len(dataset)-look_back-1):\n",
    "        dataX.append(dataset[i:i+look_back,0])\n",
    "        dataY.append(dataset[i+look_back,0])\n",
    "    return np.array(dataX) , np.reshape(np.array(dataY), [len(dataY),1])"
   ]
  },
  {
   "cell_type": "code",
   "execution_count": 11,
   "metadata": {
    "collapsed": false
   },
   "outputs": [],
   "source": [
    "look_back = 3\n",
    "trainX, trainY = create_database(train, look_back)\n",
    "testX, testY = create_database(test, look_back)"
   ]
  },
  {
   "cell_type": "code",
   "execution_count": 12,
   "metadata": {
    "collapsed": false
   },
   "outputs": [
    {
     "data": {
      "text/plain": [
       "((96, 3), (96, 1), (40, 3), (40, 1))"
      ]
     },
     "execution_count": 12,
     "metadata": {},
     "output_type": "execute_result"
    }
   ],
   "source": [
    "trainX.shape , trainY.shape , testX.shape , testY.shape"
   ]
  },
  {
   "cell_type": "code",
   "execution_count": 13,
   "metadata": {
    "collapsed": true
   },
   "outputs": [],
   "source": [
    "# reshape input to be [samples, time steps, features]\n",
    "# input dim = features\n",
    "# we can import data in 2 ways: \n",
    "# 1) import a n-dim vector in one time step with features and input_dim equal to length of vector\n",
    "# 2) import data in n time step with one feature and input dim equals to one\n",
    "\n",
    "trainX = np.reshape(trainX, [trainX.shape[0], 1, trainX.shape[1]])\n",
    "testX = np.reshape(testX, [testX.shape[0], 1, testX.shape[1]])"
   ]
  },
  {
   "cell_type": "markdown",
   "metadata": {},
   "source": [
    "# Build model"
   ]
  },
  {
   "cell_type": "code",
   "execution_count": 14,
   "metadata": {
    "collapsed": false
   },
   "outputs": [],
   "source": [
    "model = Sequential()\n",
    "model.add(LSTM(4, input_shape=(1,3)))\n",
    "model.add(Dense(1))"
   ]
  },
  {
   "cell_type": "markdown",
   "metadata": {},
   "source": [
    "# Compile and train model"
   ]
  },
  {
   "cell_type": "code",
   "execution_count": 15,
   "metadata": {
    "collapsed": false
   },
   "outputs": [],
   "source": [
    "model.compile(loss=tf.losses.mean_squared_error, optimizer=tf.train.AdamOptimizer())"
   ]
  },
  {
   "cell_type": "code",
   "execution_count": 16,
   "metadata": {
    "collapsed": false
   },
   "outputs": [
    {
     "name": "stderr",
     "output_type": "stream",
     "text": [
      "/resources/common/.virtualenv/python2/lib/python2.7/site-packages/keras/models.py:826: UserWarning: The `nb_epoch` argument in `fit` has been renamed `epochs`.\n",
      "  warnings.warn('The `nb_epoch` argument in `fit` '\n"
     ]
    },
    {
     "name": "stdout",
     "output_type": "stream",
     "text": [
      "Epoch 1/100\n",
      "1s - loss: 0.0417\n",
      "Epoch 2/100\n",
      "0s - loss: 0.0152\n",
      "Epoch 3/100\n",
      "0s - loss: 0.0111\n",
      "Epoch 4/100\n",
      "0s - loss: 0.0097\n",
      "Epoch 5/100\n",
      "0s - loss: 0.0085\n",
      "Epoch 6/100\n",
      "0s - loss: 0.0074\n",
      "Epoch 7/100\n",
      "0s - loss: 0.0066\n",
      "Epoch 8/100\n",
      "0s - loss: 0.0059\n",
      "Epoch 9/100\n",
      "0s - loss: 0.0055\n",
      "Epoch 10/100\n",
      "0s - loss: 0.0049\n",
      "Epoch 11/100\n",
      "0s - loss: 0.0046\n",
      "Epoch 12/100\n",
      "0s - loss: 0.0045\n",
      "Epoch 13/100\n",
      "0s - loss: 0.0043\n",
      "Epoch 14/100\n",
      "0s - loss: 0.0041\n",
      "Epoch 15/100\n",
      "0s - loss: 0.0041\n",
      "Epoch 16/100\n",
      "0s - loss: 0.0040\n",
      "Epoch 17/100\n",
      "0s - loss: 0.0040\n",
      "Epoch 18/100\n",
      "0s - loss: 0.0039\n",
      "Epoch 19/100\n",
      "0s - loss: 0.0038\n",
      "Epoch 20/100\n",
      "0s - loss: 0.0037\n",
      "Epoch 21/100\n",
      "0s - loss: 0.0037\n",
      "Epoch 22/100\n",
      "0s - loss: 0.0037\n",
      "Epoch 23/100\n",
      "0s - loss: 0.0037\n",
      "Epoch 24/100\n",
      "0s - loss: 0.0036\n",
      "Epoch 25/100\n",
      "0s - loss: 0.0035\n",
      "Epoch 26/100\n",
      "0s - loss: 0.0036\n",
      "Epoch 27/100\n",
      "0s - loss: 0.0035\n",
      "Epoch 28/100\n",
      "0s - loss: 0.0035\n",
      "Epoch 29/100\n",
      "0s - loss: 0.0035\n",
      "Epoch 30/100\n",
      "0s - loss: 0.0036\n",
      "Epoch 31/100\n",
      "0s - loss: 0.0034\n",
      "Epoch 32/100\n",
      "0s - loss: 0.0034\n",
      "Epoch 33/100\n",
      "0s - loss: 0.0033\n",
      "Epoch 34/100\n",
      "0s - loss: 0.0034\n",
      "Epoch 35/100\n",
      "0s - loss: 0.0034\n",
      "Epoch 36/100\n",
      "0s - loss: 0.0032\n",
      "Epoch 37/100\n",
      "0s - loss: 0.0032\n",
      "Epoch 38/100\n",
      "0s - loss: 0.0031\n",
      "Epoch 39/100\n",
      "0s - loss: 0.0032\n",
      "Epoch 40/100\n",
      "0s - loss: 0.0031\n",
      "Epoch 41/100\n",
      "0s - loss: 0.0031\n",
      "Epoch 42/100\n",
      "0s - loss: 0.0031\n",
      "Epoch 43/100\n",
      "0s - loss: 0.0031\n",
      "Epoch 44/100\n",
      "0s - loss: 0.0030\n",
      "Epoch 45/100\n",
      "0s - loss: 0.0030\n",
      "Epoch 46/100\n",
      "0s - loss: 0.0029\n",
      "Epoch 47/100\n",
      "0s - loss: 0.0030\n",
      "Epoch 48/100\n",
      "0s - loss: 0.0028\n",
      "Epoch 49/100\n",
      "0s - loss: 0.0028\n",
      "Epoch 50/100\n",
      "0s - loss: 0.0028\n",
      "Epoch 51/100\n",
      "0s - loss: 0.0028\n",
      "Epoch 52/100\n",
      "0s - loss: 0.0028\n",
      "Epoch 53/100\n",
      "0s - loss: 0.0027\n",
      "Epoch 54/100\n",
      "0s - loss: 0.0025\n",
      "Epoch 55/100\n",
      "0s - loss: 0.0026\n",
      "Epoch 56/100\n",
      "0s - loss: 0.0024\n",
      "Epoch 57/100\n",
      "0s - loss: 0.0026\n",
      "Epoch 58/100\n",
      "0s - loss: 0.0024\n",
      "Epoch 59/100\n",
      "0s - loss: 0.0025\n",
      "Epoch 60/100\n",
      "0s - loss: 0.0024\n",
      "Epoch 61/100\n",
      "0s - loss: 0.0024\n",
      "Epoch 62/100\n",
      "0s - loss: 0.0024\n",
      "Epoch 63/100\n",
      "0s - loss: 0.0023\n",
      "Epoch 64/100\n",
      "0s - loss: 0.0025\n",
      "Epoch 65/100\n",
      "0s - loss: 0.0023\n",
      "Epoch 66/100\n",
      "0s - loss: 0.0023\n",
      "Epoch 67/100\n",
      "0s - loss: 0.0022\n",
      "Epoch 68/100\n",
      "0s - loss: 0.0022\n",
      "Epoch 69/100\n",
      "0s - loss: 0.0021\n",
      "Epoch 70/100\n",
      "0s - loss: 0.0022\n",
      "Epoch 71/100\n",
      "0s - loss: 0.0021\n",
      "Epoch 72/100\n",
      "0s - loss: 0.0021\n",
      "Epoch 73/100\n",
      "0s - loss: 0.0022\n",
      "Epoch 74/100\n",
      "0s - loss: 0.0021\n",
      "Epoch 75/100\n",
      "0s - loss: 0.0021\n",
      "Epoch 76/100\n",
      "0s - loss: 0.0020\n",
      "Epoch 77/100\n",
      "0s - loss: 0.0021\n",
      "Epoch 78/100\n",
      "0s - loss: 0.0021\n",
      "Epoch 79/100\n",
      "0s - loss: 0.0021\n",
      "Epoch 80/100\n",
      "0s - loss: 0.0020\n",
      "Epoch 81/100\n",
      "0s - loss: 0.0022\n",
      "Epoch 82/100\n",
      "0s - loss: 0.0020\n",
      "Epoch 83/100\n",
      "0s - loss: 0.0020\n",
      "Epoch 84/100\n",
      "0s - loss: 0.0019\n",
      "Epoch 85/100\n",
      "0s - loss: 0.0021\n",
      "Epoch 86/100\n",
      "0s - loss: 0.0020\n",
      "Epoch 87/100\n",
      "0s - loss: 0.0020\n",
      "Epoch 88/100\n",
      "0s - loss: 0.0021\n",
      "Epoch 89/100\n",
      "0s - loss: 0.0020\n",
      "Epoch 90/100\n",
      "0s - loss: 0.0021\n",
      "Epoch 91/100\n",
      "0s - loss: 0.0021\n",
      "Epoch 92/100\n",
      "0s - loss: 0.0020\n",
      "Epoch 93/100\n",
      "0s - loss: 0.0020\n",
      "Epoch 94/100\n",
      "0s - loss: 0.0020\n",
      "Epoch 95/100\n",
      "0s - loss: 0.0020\n",
      "Epoch 96/100\n",
      "0s - loss: 0.0021\n",
      "Epoch 97/100\n",
      "0s - loss: 0.0020\n",
      "Epoch 98/100\n",
      "0s - loss: 0.0020\n",
      "Epoch 99/100\n",
      "0s - loss: 0.0020\n",
      "Epoch 100/100\n",
      "0s - loss: 0.0020\n"
     ]
    },
    {
     "data": {
      "text/plain": [
       "<keras.callbacks.History at 0x7fd230541b50>"
      ]
     },
     "execution_count": 16,
     "metadata": {},
     "output_type": "execute_result"
    }
   ],
   "source": [
    "model.fit(trainX, trainY, batch_size=1, nb_epoch=100, verbose=2)"
   ]
  },
  {
   "cell_type": "code",
   "execution_count": 17,
   "metadata": {
    "collapsed": true
   },
   "outputs": [],
   "source": [
    "train_pred = model.predict(trainX)\n",
    "test_pred = model.predict(testX)"
   ]
  },
  {
   "cell_type": "markdown",
   "metadata": {},
   "source": [
    "# Rescale data to original scale"
   ]
  },
  {
   "cell_type": "code",
   "execution_count": 18,
   "metadata": {
    "collapsed": false
   },
   "outputs": [],
   "source": [
    "train_pred = scaler.inverse_transform(train_pred)\n",
    "test_pred = scaler.inverse_transform(test_pred)\n",
    "trainY = scaler.inverse_transform(trainY)\n",
    "testY = scaler.inverse_transform(testY)"
   ]
  },
  {
   "cell_type": "markdown",
   "metadata": {},
   "source": [
    "# Plot results"
   ]
  },
  {
   "cell_type": "code",
   "execution_count": 19,
   "metadata": {
    "collapsed": false
   },
   "outputs": [
    {
     "data": {
      "image/png": "[encoded data removed]",
      "text/plain": [
       "<matplotlib.figure.Figure at 0x7fd1e45aac50>"
      ]
     },
     "metadata": {},
     "output_type": "display_data"
    }
   ],
   "source": [
    "Y = np.concatenate([trainY,testY])\n",
    "Y_pred = np.concatenate([train_pred,test_pred])\n",
    "plt.plot(Y,hold=True)\n",
    "plt.plot(Y_pred)\n",
    "plt.legend(['Y', 'Y_pred'],loc=0)\n",
    "plt.show()"
   ]
  },
  {
   "cell_type": "code",
   "execution_count": null,
   "metadata": {
    "collapsed": true
   },
   "outputs": [],
   "source": []
  }
 ],
 "metadata": {
  "kernelspec": {
   "display_name": "Python 2",
   "language": "python",
   "name": "python2"
  },
  "language_info": {
   "codemirror_mode": {
    "name": "ipython",
    "version": 2
   },
   "file_extension": ".py",
   "mimetype": "text/x-python",
   "name": "python",
   "nbconvert_exporter": "python",
   "pygments_lexer": "ipython2",
   "version": "2.7.12"
  },
  "widgets": {
   "state": {},
   "version": "1.1.2"
  }
 },
 "nbformat": 4,
 "nbformat_minor": 0
}
